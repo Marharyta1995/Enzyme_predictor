{
 "cells": [
  {
   "cell_type": "markdown",
   "source": [
    "## ***Data preprocessing for CD-HIT***"
   ],
   "metadata": {
    "collapsed": false,
    "pycharm": {
     "name": "#%% md\n"
    }
   }
  },
  {
   "cell_type": "code",
   "execution_count": 1,
   "outputs": [],
   "source": [
    "# read both files, add necessary spaces and save them as fasta\n",
    "# non_enzyme\n",
    "f_original = open('non_enzyme_new_data_sequence.txt', 'r')\n",
    "non_enzyme = f_original.read()\n",
    "f_original.close()"
   ],
   "metadata": {
    "collapsed": false,
    "pycharm": {
     "name": "#%%\n"
    }
   }
  },
  {
   "cell_type": "code",
   "execution_count": 11,
   "outputs": [],
   "source": [
    "# replace > with >\\n\n",
    "non_enzyme_correct = non_enzyme.replace('>', '>\\n')\n",
    "non_enzyme_write = repr(non_enzyme_correct)"
   ],
   "metadata": {
    "collapsed": false,
    "pycharm": {
     "name": "#%%\n"
    }
   }
  },
  {
   "cell_type": "code",
   "execution_count": 13,
   "outputs": [],
   "source": [
    "with open('non_enzyme.fasta', 'w') as f:\n",
    "    f.write(non_enzyme_correct)"
   ],
   "metadata": {
    "collapsed": false,
    "pycharm": {
     "name": "#%%\n"
    }
   }
  },
  {
   "cell_type": "code",
   "execution_count": 5,
   "outputs": [],
   "source": [
    "# for enzyme data\n",
    "f_original = open('new_data_label_sequence.txt', 'r')\n",
    "enzyme = f_original.read()\n",
    "f_original.close()\n",
    "# replace > with >\\n\n",
    "enzyme_correct = enzyme.replace('>', '\\n')\n",
    "enzyme_writer = enzyme_correct.replace('^', '>')\n",
    "with open('enzyme.fasta', 'w') as f:\n",
    "    f.write(enzyme_writer)"
   ],
   "metadata": {
    "collapsed": false,
    "pycharm": {
     "name": "#%%\n"
    }
   }
  },
  {
   "cell_type": "markdown",
   "source": [
    "## ***CD-HIT (is done either in Colab or in Terminal, needs conda!)***"
   ],
   "metadata": {
    "collapsed": false,
    "pycharm": {
     "name": "#%% md\n"
    }
   }
  },
  {
   "cell_type": "markdown",
   "source": [
    "### **Install and transform datasets using CD-HIT**"
   ],
   "metadata": {
    "collapsed": false,
    "pycharm": {
     "name": "#%% md\n"
    }
   }
  },
  {
   "cell_type": "code",
   "execution_count": 2,
   "outputs": [
    {
     "name": "stdout",
     "output_type": "stream",
     "text": [
      "zsh:1: command not found: wget\r\n",
      "chmod: Miniconda3-py37_4.8.2-Linux-x86_64.sh: No such file or directory\r\n",
      "bash: ./Miniconda3-py37_4.8.2-Linux-x86_64.sh: No such file or directory\r\n"
     ]
    }
   ],
   "source": [
    "################################################################################\n",
    "# INSTALL CONDA ON GOOGLE COLAB\n",
    "################################################################################\n",
    "! wget https://repo.anaconda.com/miniconda/Miniconda3-py37_4.8.2-Linux-x86_64.sh\n",
    "! chmod +x Miniconda3-py37_4.8.2-Linux-x86_64.sh\n",
    "! bash ./Miniconda3-py37_4.8.2-Linux-x86_64.sh -b -f -p /usr/local\n",
    "import sys\n",
    "sys.path.append('/usr/local/lib/python3.7/site-packages/')"
   ],
   "metadata": {
    "collapsed": false,
    "pycharm": {
     "name": "#%%\n"
    }
   }
  },
  {
   "cell_type": "markdown",
   "source": [
    "### Load datasets and use CD-HIT"
   ],
   "metadata": {
    "collapsed": false,
    "pycharm": {
     "name": "#%% md\n"
    }
   }
  },
  {
   "cell_type": "code",
   "execution_count": null,
   "outputs": [],
   "source": [
    "! wget https://raw.githubusercontent.com/Marharyta1995/DS_HW/master/Final_project/non_enzyme.fasta\n",
    "\n",
    "! wget https://raw.githubusercontent.com/Marharyta1995/DS_HW/master/Final_project/enzyme.fasta\n",
    "\n",
    "! ls\n",
    "\n",
    "# **Remove redundant sequences using CD-HIT**\n",
    "\n",
    "! cd-hit -i non_enzyme.fasta -o non_enzyme_cdhit.txt -c 0.90\n",
    "\n",
    "! cd-hit -i enzyme.fasta -o enzyme_cdhit.txt -c 0.98\n",
    "\n",
    "# Compare the size of old vs. new files\n",
    "\n",
    "! grep \">\" enzyme.fasta | wc -l\n",
    "\n",
    "! grep \">\" enzyme_cdhit.txt | wc -l\n",
    "\n",
    "! grep \">\" non_enzyme_cdhit.txt | wc -l\n",
    "\n",
    "! grep \">\" non_enzyme.fasta | wc -l"
   ],
   "metadata": {
    "collapsed": false,
    "pycharm": {
     "name": "#%%\n"
    }
   }
  },
  {
   "cell_type": "code",
   "execution_count": 4,
   "outputs": [],
   "source": [
    "# bring files to csv format\n",
    "# for enzyme data\n",
    "f_cd_hit = open('./data/after_cd_hit/enzyme_cdhit.txt', 'r')\n",
    "enzyme = f_cd_hit.read()\n",
    "f_cd_hit.close()\n",
    "# replace \\n with ;\n",
    "enzyme_correct = enzyme.replace('\\n', ';')\n",
    "enzyme_writer = enzyme_correct.replace('>', '\\n')\n",
    "with open('enzyme.csv', 'w') as f:\n",
    "    f.write(enzyme_writer)"
   ],
   "metadata": {
    "collapsed": false,
    "pycharm": {
     "name": "#%%\n"
    }
   }
  },
  {
   "cell_type": "code",
   "execution_count": 7,
   "outputs": [],
   "source": [
    "# bring files to csv format\n",
    "# for non-enzyme data\n",
    "f_cd_hit = open('./data/after_cd_hit/non_enzyme_cdhit.txt', 'r')\n",
    "non_enzyme = f_cd_hit.read()\n",
    "f_cd_hit.close()\n",
    "# replace > with ;\n",
    "#enzyme_correct = enzyme.replace('\\n', '')\n",
    "enzyme_writer = non_enzyme.replace('>', '')\n",
    "with open('non_enzyme.csv', 'w') as f:\n",
    "    f.write(enzyme_writer)"
   ],
   "metadata": {
    "collapsed": false,
    "pycharm": {
     "name": "#%%\n"
    }
   }
  },
  {
   "cell_type": "code",
   "execution_count": null,
   "outputs": [],
   "source": [],
   "metadata": {
    "collapsed": false,
    "pycharm": {
     "name": "#%%\n"
    }
   }
  }
 ],
 "metadata": {
  "kernelspec": {
   "display_name": "Python 3",
   "language": "python",
   "name": "python3"
  },
  "language_info": {
   "codemirror_mode": {
    "name": "ipython",
    "version": 2
   },
   "file_extension": ".py",
   "mimetype": "text/x-python",
   "name": "python",
   "nbconvert_exporter": "python",
   "pygments_lexer": "ipython2",
   "version": "2.7.6"
  }
 },
 "nbformat": 4,
 "nbformat_minor": 0
}