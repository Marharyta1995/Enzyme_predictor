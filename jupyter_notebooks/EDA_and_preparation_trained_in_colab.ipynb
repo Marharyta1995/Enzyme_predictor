{
 "cells": [
  {
   "cell_type": "markdown",
   "source": [
    "### Data preparation after CD-HIT"
   ],
   "metadata": {
    "collapsed": false,
    "pycharm": {
     "name": "#%% md\n"
    }
   }
  },
  {
   "cell_type": "code",
   "execution_count": 1,
   "metadata": {
    "collapsed": true,
    "id": "WAgCwjkzyPY6"
   },
   "outputs": [],
   "source": [
    "import pandas as pd\n",
    "import matplotlib.pyplot as plt\n",
    "import seaborn as sns\n",
    "import numpy as np\n",
    "import torch\n",
    "from torch.utils.data import (TensorDataset, DataLoader, RandomSampler,\n",
    "                              SequentialSampler)\n",
    "import torch\n",
    "import torch.nn as nn\n",
    "from torchvision import datasets\n",
    "from torchvision import transforms\n",
    "import numpy as np\n",
    "import os\n",
    "import torch.nn.functional as F\n",
    "import torch.optim as optim\n",
    "import sys\n",
    "import pandas as pd\n",
    "import re\n",
    "from torch.utils.data import (TensorDataset, DataLoader, RandomSampler,\n",
    "                              SequentialSampler)"
   ]
  },
  {
   "cell_type": "code",
   "source": [
    "if torch.cuda.is_available():       \n",
    "    device = torch.device(\"cuda\")\n",
    "    print(f'There are {torch.cuda.device_count()} GPU(s) available.')\n",
    "    print('Device name:', torch.cuda.get_device_name(0))\n",
    "\n",
    "else:\n",
    "    print('No GPU available, using the CPU instead.')\n",
    "    device = torch.device(\"cpu\")"
   ],
   "metadata": {
    "id": "Fkd4wj1uzMbj"
   },
   "execution_count": 2,
   "outputs": [
    {
     "name": "stdout",
     "output_type": "stream",
     "text": [
      "No GPU available, using the CPU instead.\n"
     ]
    }
   ]
  },
  {
   "cell_type": "markdown",
   "source": [
    "#### Read files after CD-HIT as pandas df, and add a label \"is_enzyme\""
   ],
   "metadata": {
    "collapsed": false,
    "pycharm": {
     "name": "#%% md\n"
    },
    "id": "qL2ij7i0yPY9"
   }
  },
  {
   "cell_type": "markdown",
   "source": [
    "***Enzymes***"
   ],
   "metadata": {
    "collapsed": false,
    "pycharm": {
     "name": "#%% md\n"
    },
    "id": "GkJOPirpyPY9"
   }
  },
  {
   "cell_type": "code",
   "execution_count": 3,
   "outputs": [],
   "source": [
    "df_enzyme = pd.read_csv(\"/Users/marharyta/Desktop/Data_science/IT_Academy/Exam_project/data/after_cd_hit/enzyme.csv\", names = [\"Enzyme_class\",\"Sequence\", \"Artifact\"], sep=\";\", engine= \"python\")"
   ],
   "metadata": {
    "pycharm": {
     "name": "#%%\n"
    },
    "id": "GLud8x15yPY-"
   }
  },
  {
   "cell_type": "code",
   "execution_count": 4,
   "outputs": [],
   "source": [
    "df_enzyme.drop(\"Artifact\", axis= 1, inplace= True)\n",
    "df_enzyme[\"Is_enzyme\"] = 1"
   ],
   "metadata": {
    "pycharm": {
     "name": "#%%\n"
    },
    "id": "Y3p1utVOyPY-"
   }
  },
  {
   "cell_type": "code",
   "execution_count": 5,
   "outputs": [
    {
     "data": {
      "text/plain": "                                                Sequence  Is_enzyme\n0      ATAQEQPEGEAPDKVESPVVXXXEAXIVLVNYAREADVDAMMKDAV...          1\n1      MATTSIAGPRLTSLKTAAGKLGYREICHVRQWAPVHSPMPHFGMLR...          1\n2      MHPYFSLAGRIALVTGGSRGIGQMIAQGLLEAGARVFICARDAEAC...          1\n3      MHYLPVAIVTGATRGIGKAICQKLFQKGLSCIILGSTKESIERTAI...          1\n4      MKTTKKIAVITGANRGLGKGIAEELSNTNNITVIGTSTSQKGCKII...          1\n...                                                  ...        ...\n22118  MSSLVSTPFTTATGVQKKLGAPVPLHSFLLSRRQPAAGAGRGRAAA...          1\n22119  MTPTAQTTASARRVVFPFTAIVGQEEMKLALLLNVIDPKIGGVMIM...          1\n22120  MHLLLAQKGTIADGNEAIDLGQTPADILFLSAADTELSSIAAAHGR...          1\n22121  MMSKIDLDISNLPDTTISVREVFGIDTDLRVPAYSKGDAYVPDLDP...          1\n22122  MSSNSKAKPTTRENAAEPFKRALSGCIRSIAGDAEVEVAFANERPG...          1\n\n[22123 rows x 2 columns]",
      "text/html": "<div>\n<style scoped>\n    .dataframe tbody tr th:only-of-type {\n        vertical-align: middle;\n    }\n\n    .dataframe tbody tr th {\n        vertical-align: top;\n    }\n\n    .dataframe thead th {\n        text-align: right;\n    }\n</style>\n<table border=\"1\" class=\"dataframe\">\n  <thead>\n    <tr style=\"text-align: right;\">\n      <th></th>\n      <th>Sequence</th>\n      <th>Is_enzyme</th>\n    </tr>\n  </thead>\n  <tbody>\n    <tr>\n      <th>0</th>\n      <td>ATAQEQPEGEAPDKVESPVVXXXEAXIVLVNYAREADVDAMMKDAV...</td>\n      <td>1</td>\n    </tr>\n    <tr>\n      <th>1</th>\n      <td>MATTSIAGPRLTSLKTAAGKLGYREICHVRQWAPVHSPMPHFGMLR...</td>\n      <td>1</td>\n    </tr>\n    <tr>\n      <th>2</th>\n      <td>MHPYFSLAGRIALVTGGSRGIGQMIAQGLLEAGARVFICARDAEAC...</td>\n      <td>1</td>\n    </tr>\n    <tr>\n      <th>3</th>\n      <td>MHYLPVAIVTGATRGIGKAICQKLFQKGLSCIILGSTKESIERTAI...</td>\n      <td>1</td>\n    </tr>\n    <tr>\n      <th>4</th>\n      <td>MKTTKKIAVITGANRGLGKGIAEELSNTNNITVIGTSTSQKGCKII...</td>\n      <td>1</td>\n    </tr>\n    <tr>\n      <th>...</th>\n      <td>...</td>\n      <td>...</td>\n    </tr>\n    <tr>\n      <th>22118</th>\n      <td>MSSLVSTPFTTATGVQKKLGAPVPLHSFLLSRRQPAAGAGRGRAAA...</td>\n      <td>1</td>\n    </tr>\n    <tr>\n      <th>22119</th>\n      <td>MTPTAQTTASARRVVFPFTAIVGQEEMKLALLLNVIDPKIGGVMIM...</td>\n      <td>1</td>\n    </tr>\n    <tr>\n      <th>22120</th>\n      <td>MHLLLAQKGTIADGNEAIDLGQTPADILFLSAADTELSSIAAAHGR...</td>\n      <td>1</td>\n    </tr>\n    <tr>\n      <th>22121</th>\n      <td>MMSKIDLDISNLPDTTISVREVFGIDTDLRVPAYSKGDAYVPDLDP...</td>\n      <td>1</td>\n    </tr>\n    <tr>\n      <th>22122</th>\n      <td>MSSNSKAKPTTRENAAEPFKRALSGCIRSIAGDAEVEVAFANERPG...</td>\n      <td>1</td>\n    </tr>\n  </tbody>\n</table>\n<p>22123 rows × 2 columns</p>\n</div>"
     },
     "execution_count": 5,
     "metadata": {},
     "output_type": "execute_result"
    }
   ],
   "source": [
    "df_enzyme[['Sequence', \"Is_enzyme\"]]"
   ],
   "metadata": {
    "pycharm": {
     "name": "#%%\n"
    },
    "id": "jqrLptb6yPY-"
   }
  },
  {
   "cell_type": "code",
   "execution_count": 6,
   "outputs": [
    {
     "data": {
      "text/plain": "  Enzyme_class                                           Sequence  Is_enzyme\n0    1.1.1.100  ATAQEQPEGEAPDKVESPVVXXXEAXIVLVNYAREADVDAMMKDAV...          1\n1    1.1.1.100  MATTSIAGPRLTSLKTAAGKLGYREICHVRQWAPVHSPMPHFGMLR...          1\n2    1.1.1.100  MHPYFSLAGRIALVTGGSRGIGQMIAQGLLEAGARVFICARDAEAC...          1\n3    1.1.1.100  MHYLPVAIVTGATRGIGKAICQKLFQKGLSCIILGSTKESIERTAI...          1\n4    1.1.1.100  MKTTKKIAVITGANRGLGKGIAEELSNTNNITVIGTSTSQKGCKII...          1",
      "text/html": "<div>\n<style scoped>\n    .dataframe tbody tr th:only-of-type {\n        vertical-align: middle;\n    }\n\n    .dataframe tbody tr th {\n        vertical-align: top;\n    }\n\n    .dataframe thead th {\n        text-align: right;\n    }\n</style>\n<table border=\"1\" class=\"dataframe\">\n  <thead>\n    <tr style=\"text-align: right;\">\n      <th></th>\n      <th>Enzyme_class</th>\n      <th>Sequence</th>\n      <th>Is_enzyme</th>\n    </tr>\n  </thead>\n  <tbody>\n    <tr>\n      <th>0</th>\n      <td>1.1.1.100</td>\n      <td>ATAQEQPEGEAPDKVESPVVXXXEAXIVLVNYAREADVDAMMKDAV...</td>\n      <td>1</td>\n    </tr>\n    <tr>\n      <th>1</th>\n      <td>1.1.1.100</td>\n      <td>MATTSIAGPRLTSLKTAAGKLGYREICHVRQWAPVHSPMPHFGMLR...</td>\n      <td>1</td>\n    </tr>\n    <tr>\n      <th>2</th>\n      <td>1.1.1.100</td>\n      <td>MHPYFSLAGRIALVTGGSRGIGQMIAQGLLEAGARVFICARDAEAC...</td>\n      <td>1</td>\n    </tr>\n    <tr>\n      <th>3</th>\n      <td>1.1.1.100</td>\n      <td>MHYLPVAIVTGATRGIGKAICQKLFQKGLSCIILGSTKESIERTAI...</td>\n      <td>1</td>\n    </tr>\n    <tr>\n      <th>4</th>\n      <td>1.1.1.100</td>\n      <td>MKTTKKIAVITGANRGLGKGIAEELSNTNNITVIGTSTSQKGCKII...</td>\n      <td>1</td>\n    </tr>\n  </tbody>\n</table>\n</div>"
     },
     "execution_count": 6,
     "metadata": {},
     "output_type": "execute_result"
    }
   ],
   "source": [
    "df_enzyme.head()"
   ],
   "metadata": {
    "pycharm": {
     "name": "#%%\n"
    },
    "id": "F0H3ujF3yPY_"
   }
  },
  {
   "cell_type": "markdown",
   "source": [
    "***Not enzymes***"
   ],
   "metadata": {
    "collapsed": false,
    "pycharm": {
     "name": "#%% md\n"
    },
    "id": "Ggmj41JjyPY_"
   }
  },
  {
   "cell_type": "code",
   "execution_count": 7,
   "outputs": [],
   "source": [
    "df_non_enzyme = pd.read_csv(\"/Users/marharyta/Desktop/Data_science/IT_Academy/Exam_project/data/after_cd_hit/non_enzyme.csv\", names = [\"Sequence\", \"Artifact\"])"
   ],
   "metadata": {
    "pycharm": {
     "name": "#%%\n"
    },
    "id": "lLDTIeQWyPY_"
   }
  },
  {
   "cell_type": "code",
   "execution_count": 8,
   "outputs": [],
   "source": [
    "\n",
    "df_non_enzyme.drop(\"Artifact\", axis= 1, inplace= True)\n",
    "df_non_enzyme[\"Is_enzyme\"] = 0"
   ],
   "metadata": {
    "pycharm": {
     "name": "#%%\n"
    },
    "id": "g-UfgB8JyPZA"
   }
  },
  {
   "cell_type": "code",
   "execution_count": 9,
   "outputs": [
    {
     "data": {
      "text/plain": "                                            Sequence  Is_enzyme\n0  MNQQLSWRTIVGYSLGDVANNFAFAMGALFLLSYYTDVAGVGAAAA...          0\n1  HGLPAQCPNADGTMVHTCCLHGMPTFKLNFDSHFTIKTVVAQNGTE...          0\n2  MTWLLLCLLAQYENGGKVLALSSSAKPYKTSVRFDPKTAHPNLVVS...          0\n3  MALPLPPASNLHSILLVTKSRSLGPRLVFHYPPLSPSAAALAGAKD...          0\n4  MATEIGSPPRFFHMPRFQHQAPRQLFYKRPDFAQQQAMQQLTFDGK...          0",
      "text/html": "<div>\n<style scoped>\n    .dataframe tbody tr th:only-of-type {\n        vertical-align: middle;\n    }\n\n    .dataframe tbody tr th {\n        vertical-align: top;\n    }\n\n    .dataframe thead th {\n        text-align: right;\n    }\n</style>\n<table border=\"1\" class=\"dataframe\">\n  <thead>\n    <tr style=\"text-align: right;\">\n      <th></th>\n      <th>Sequence</th>\n      <th>Is_enzyme</th>\n    </tr>\n  </thead>\n  <tbody>\n    <tr>\n      <th>0</th>\n      <td>MNQQLSWRTIVGYSLGDVANNFAFAMGALFLLSYYTDVAGVGAAAA...</td>\n      <td>0</td>\n    </tr>\n    <tr>\n      <th>1</th>\n      <td>HGLPAQCPNADGTMVHTCCLHGMPTFKLNFDSHFTIKTVVAQNGTE...</td>\n      <td>0</td>\n    </tr>\n    <tr>\n      <th>2</th>\n      <td>MTWLLLCLLAQYENGGKVLALSSSAKPYKTSVRFDPKTAHPNLVVS...</td>\n      <td>0</td>\n    </tr>\n    <tr>\n      <th>3</th>\n      <td>MALPLPPASNLHSILLVTKSRSLGPRLVFHYPPLSPSAAALAGAKD...</td>\n      <td>0</td>\n    </tr>\n    <tr>\n      <th>4</th>\n      <td>MATEIGSPPRFFHMPRFQHQAPRQLFYKRPDFAQQQAMQQLTFDGK...</td>\n      <td>0</td>\n    </tr>\n  </tbody>\n</table>\n</div>"
     },
     "execution_count": 9,
     "metadata": {},
     "output_type": "execute_result"
    }
   ],
   "source": [
    "df_non_enzyme.head()"
   ],
   "metadata": {
    "pycharm": {
     "name": "#%%\n"
    },
    "id": "Y9jjuAkMyPZA"
   }
  },
  {
   "cell_type": "code",
   "execution_count": 10,
   "outputs": [],
   "source": [
    "# concatenate 2 dfs together in df\n",
    "df = pd.concat([df_enzyme[['Sequence', \"Is_enzyme\"]], df_non_enzyme], axis=0)"
   ],
   "metadata": {
    "pycharm": {
     "name": "#%%\n"
    },
    "id": "UUVkZJL9yPZA"
   }
  },
  {
   "cell_type": "code",
   "execution_count": 11,
   "outputs": [
    {
     "data": {
      "text/plain": "4998"
     },
     "execution_count": 11,
     "metadata": {},
     "output_type": "execute_result"
    }
   ],
   "source": [
    "#longest protein entry\n",
    "df.Sequence.map(lambda x: len(x)).max()"
   ],
   "metadata": {
    "pycharm": {
     "name": "#%%\n"
    },
    "id": "mbSeBigfyPZA"
   }
  },
  {
   "cell_type": "code",
   "source": [
    "df = df[df['Sequence'].str.len() < 500]"
   ],
   "metadata": {
    "id": "IJGoa8G00jQV"
   },
   "execution_count": 12,
   "outputs": []
  },
  {
   "cell_type": "code",
   "source": [
    "len(df)"
   ],
   "metadata": {
    "id": "1x3lwYfU08dI"
   },
   "execution_count": 13,
   "outputs": [
    {
     "data": {
      "text/plain": "31659"
     },
     "execution_count": 13,
     "metadata": {},
     "output_type": "execute_result"
    }
   ]
  },
  {
   "cell_type": "code",
   "source": [
    "len_max_seq = (df.Sequence.map(lambda x: len(x)).max()) +1"
   ],
   "metadata": {
    "id": "m3cmIH5x3Zhk"
   },
   "execution_count": 14,
   "outputs": []
  },
  {
   "cell_type": "code",
   "source": [
    "len_max_seq"
   ],
   "metadata": {
    "id": "yaZ25ZDE3u-Z"
   },
   "execution_count": 15,
   "outputs": [
    {
     "data": {
      "text/plain": "500"
     },
     "execution_count": 15,
     "metadata": {},
     "output_type": "execute_result"
    }
   ]
  },
  {
   "cell_type": "markdown",
   "source": [
    "### ***Some EDA***"
   ],
   "metadata": {
    "collapsed": false,
    "pycharm": {
     "name": "#%% md\n"
    },
    "id": "4bxYzovAyPZA"
   }
  },
  {
   "cell_type": "code",
   "execution_count": 16,
   "outputs": [
    {
     "data": {
      "text/plain": "<Figure size 640x480 with 1 Axes>",
      "image/png": "[encoded data removed]"
     },
     "metadata": {},
     "output_type": "display_data"
    }
   ],
   "source": [
    "# main classes are represented equally\n",
    "sns.set_palette(\"pastel\")\n",
    "ax = sns.barplot(x=df.Is_enzyme.value_counts().index, y=df.Is_enzyme.value_counts())\n",
    "ax.set(xlabel='Is it an enzyme?', ylabel='Count values');"
   ],
   "metadata": {
    "pycharm": {
     "name": "#%%\n"
    },
    "id": "YcxuSUIYyPZA"
   }
  },
  {
   "cell_type": "markdown",
   "source": [
    "### Data preparation for training"
   ],
   "metadata": {
    "collapsed": false,
    "pycharm": {
     "name": "#%% md\n"
    },
    "id": "dcj8MA2IyPZB"
   }
  },
  {
   "cell_type": "markdown",
   "source": [
    "***Encoding of amino acids***"
   ],
   "metadata": {
    "collapsed": false,
    "pycharm": {
     "name": "#%% md\n"
    },
    "id": "XyEcAh0KyPZB"
   }
  },
  {
   "cell_type": "code",
   "execution_count": 17,
   "outputs": [],
   "source": [
    "only_sequences = df.Sequence.tolist()"
   ],
   "metadata": {
    "pycharm": {
     "name": "#%%\n"
    },
    "id": "CEMqMZELyPZB"
   }
  },
  {
   "cell_type": "code",
   "execution_count": 18,
   "outputs": [
    {
     "data": {
      "text/plain": "31659"
     },
     "execution_count": 18,
     "metadata": {},
     "output_type": "execute_result"
    }
   ],
   "source": [
    "len(only_sequences)"
   ],
   "metadata": {
    "pycharm": {
     "name": "#%%\n"
    },
    "id": "DN1s22YNyPZB"
   }
  },
  {
   "cell_type": "code",
   "execution_count": 19,
   "outputs": [],
   "source": [
    "from numpy import argmax\n",
    "# define input string\n",
    "# define universe of possible input values\n",
    "aa_code = 'ABCDEFGHIKLMNOPQRSTUVWYXZ'\n",
    "vocab_size_aa = len(aa_code)+1\n",
    "# define a mapping of chars to integers\n",
    "char_to_int = dict((c, i) for i, c in enumerate(aa_code, start = 1))\n",
    "int_to_char = dict((i, c) for i, c in enumerate(aa_code, start = 1))\n",
    "# integer encode input data\n",
    "encoded_aa = list()\n",
    "for val in only_sequences:\n",
    " integer_encoded = [char_to_int[char] for char in val]\n",
    " encoded_aa.append(integer_encoded)\n"
   ],
   "metadata": {
    "pycharm": {
     "name": "#%%\n"
    },
    "id": "40k081GOyPZB"
   }
  },
  {
   "cell_type": "markdown",
   "source": [
    "***Padding***"
   ],
   "metadata": {
    "collapsed": false,
    "pycharm": {
     "name": "#%% md\n"
    },
    "id": "ZjWVcHIHyPZB"
   }
  },
  {
   "cell_type": "code",
   "execution_count": 20,
   "outputs": [],
   "source": [
    "padding = 0"
   ],
   "metadata": {
    "pycharm": {
     "name": "#%%\n"
    },
    "id": "mssfUyVIyPZB"
   }
  },
  {
   "cell_type": "code",
   "execution_count": 21,
   "outputs": [],
   "source": [
    "for protein in encoded_aa:\n",
    " if len(protein) < len_max_seq:\n",
    "  for i in range (len_max_seq-len(protein)):\n",
    "   protein.append(padding)"
   ],
   "metadata": {
    "pycharm": {
     "name": "#%%\n"
    },
    "id": "GgDulvOZyPZB"
   }
  },
  {
   "cell_type": "code",
   "execution_count": 22,
   "outputs": [
    {
     "data": {
      "text/plain": "500"
     },
     "execution_count": 22,
     "metadata": {},
     "output_type": "execute_result"
    }
   ],
   "source": [
    "len(encoded_aa[1])"
   ],
   "metadata": {
    "pycharm": {
     "name": "#%%\n"
    },
    "id": "lki2xBO7yPZC"
   }
  },
  {
   "cell_type": "code",
   "execution_count": 23,
   "outputs": [],
   "source": [
    "# combine the data to new df\n",
    "df_X = pd.DataFrame(encoded_aa)"
   ],
   "metadata": {
    "pycharm": {
     "name": "#%%\n"
    },
    "id": "NhJ9oXZryPZC"
   }
  },
  {
   "cell_type": "markdown",
   "source": [
    "***Create dataset after padding***"
   ],
   "metadata": {
    "collapsed": false,
    "pycharm": {
     "name": "#%% md\n"
    },
    "id": "m5hI_2hyyPZC"
   }
  },
  {
   "cell_type": "code",
   "execution_count": 24,
   "outputs": [],
   "source": [
    "df.reset_index(drop = True, inplace=True)\n",
    "df_ready = pd.concat([df_X, df[['Is_enzyme']]], axis = 1)"
   ],
   "metadata": {
    "pycharm": {
     "name": "#%%\n"
    },
    "id": "yxE7NI6NyPZC"
   }
  },
  {
   "cell_type": "code",
   "execution_count": 25,
   "outputs": [
    {
     "data": {
      "text/plain": "        0   1   2   3   4   5   6   7   8   9  ...  491  492  493  494  495  \\\n31654  12   9  23  10  18   9   1   5  17  11  ...    0    0    0    0    0   \n31655  12  11  19  17   6  11   7  15  17  23  ...    0    0    0    0    0   \n31656  12  18  15  10  15  17   1  18   7  15  ...    0    0    0    0    0   \n31657  12  15   9  10  10  11   9  18  10   9  ...    0    0    0    0    0   \n31658  12  21  11   9  19  17  23  11  15  18  ...    0    0    0    0    0   \n\n       496  497  498  499  Is_enzyme  \n31654    0    0    0    0          0  \n31655    0    0    0    0          0  \n31656    0    0    0    0          0  \n31657    0    0    0    0          0  \n31658    0    0    0    0          0  \n\n[5 rows x 501 columns]",
      "text/html": "<div>\n<style scoped>\n    .dataframe tbody tr th:only-of-type {\n        vertical-align: middle;\n    }\n\n    .dataframe tbody tr th {\n        vertical-align: top;\n    }\n\n    .dataframe thead th {\n        text-align: right;\n    }\n</style>\n<table border=\"1\" class=\"dataframe\">\n  <thead>\n    <tr style=\"text-align: right;\">\n      <th></th>\n      <th>0</th>\n      <th>1</th>\n      <th>2</th>\n      <th>3</th>\n      <th>4</th>\n      <th>5</th>\n      <th>6</th>\n      <th>7</th>\n      <th>8</th>\n      <th>9</th>\n      <th>...</th>\n      <th>491</th>\n      <th>492</th>\n      <th>493</th>\n      <th>494</th>\n      <th>495</th>\n      <th>496</th>\n      <th>497</th>\n      <th>498</th>\n      <th>499</th>\n      <th>Is_enzyme</th>\n    </tr>\n  </thead>\n  <tbody>\n    <tr>\n      <th>31654</th>\n      <td>12</td>\n      <td>9</td>\n      <td>23</td>\n      <td>10</td>\n      <td>18</td>\n      <td>9</td>\n      <td>1</td>\n      <td>5</td>\n      <td>17</td>\n      <td>11</td>\n      <td>...</td>\n      <td>0</td>\n      <td>0</td>\n      <td>0</td>\n      <td>0</td>\n      <td>0</td>\n      <td>0</td>\n      <td>0</td>\n      <td>0</td>\n      <td>0</td>\n      <td>0</td>\n    </tr>\n    <tr>\n      <th>31655</th>\n      <td>12</td>\n      <td>11</td>\n      <td>19</td>\n      <td>17</td>\n      <td>6</td>\n      <td>11</td>\n      <td>7</td>\n      <td>15</td>\n      <td>17</td>\n      <td>23</td>\n      <td>...</td>\n      <td>0</td>\n      <td>0</td>\n      <td>0</td>\n      <td>0</td>\n      <td>0</td>\n      <td>0</td>\n      <td>0</td>\n      <td>0</td>\n      <td>0</td>\n      <td>0</td>\n    </tr>\n    <tr>\n      <th>31656</th>\n      <td>12</td>\n      <td>18</td>\n      <td>15</td>\n      <td>10</td>\n      <td>15</td>\n      <td>17</td>\n      <td>1</td>\n      <td>18</td>\n      <td>7</td>\n      <td>15</td>\n      <td>...</td>\n      <td>0</td>\n      <td>0</td>\n      <td>0</td>\n      <td>0</td>\n      <td>0</td>\n      <td>0</td>\n      <td>0</td>\n      <td>0</td>\n      <td>0</td>\n      <td>0</td>\n    </tr>\n    <tr>\n      <th>31657</th>\n      <td>12</td>\n      <td>15</td>\n      <td>9</td>\n      <td>10</td>\n      <td>10</td>\n      <td>11</td>\n      <td>9</td>\n      <td>18</td>\n      <td>10</td>\n      <td>9</td>\n      <td>...</td>\n      <td>0</td>\n      <td>0</td>\n      <td>0</td>\n      <td>0</td>\n      <td>0</td>\n      <td>0</td>\n      <td>0</td>\n      <td>0</td>\n      <td>0</td>\n      <td>0</td>\n    </tr>\n    <tr>\n      <th>31658</th>\n      <td>12</td>\n      <td>21</td>\n      <td>11</td>\n      <td>9</td>\n      <td>19</td>\n      <td>17</td>\n      <td>23</td>\n      <td>11</td>\n      <td>15</td>\n      <td>18</td>\n      <td>...</td>\n      <td>0</td>\n      <td>0</td>\n      <td>0</td>\n      <td>0</td>\n      <td>0</td>\n      <td>0</td>\n      <td>0</td>\n      <td>0</td>\n      <td>0</td>\n      <td>0</td>\n    </tr>\n  </tbody>\n</table>\n<p>5 rows × 501 columns</p>\n</div>"
     },
     "execution_count": 25,
     "metadata": {},
     "output_type": "execute_result"
    }
   ],
   "source": [
    "df_ready.tail()"
   ],
   "metadata": {
    "pycharm": {
     "name": "#%%\n"
    },
    "id": "76Lw5hcoyPZC"
   }
  },
  {
   "cell_type": "markdown",
   "source": [
    "***Train-test split***"
   ],
   "metadata": {
    "collapsed": false,
    "pycharm": {
     "name": "#%% md\n"
    },
    "id": "fVvG7vYuyPZC"
   }
  },
  {
   "cell_type": "code",
   "execution_count": 26,
   "outputs": [],
   "source": [
    "# Import libraries\n",
    "#import lazypredict\n",
    "#from lazypredict.Supervised import LazyClassifier\n",
    "from sklearn.model_selection import train_test_split\n",
    "from sklearn.metrics import matthews_corrcoef\n",
    "\n",
    "# Load dataset\n",
    "X = df_ready.drop('Is_enzyme', axis = 1)\n",
    "y = df_ready['Is_enzyme'].copy()\n",
    "\n",
    "# Data split\n",
    "X_train, X_test, y_train, y_test = train_test_split(X, y, test_size=0.2, random_state =42, stratify=y)\n"
   ],
   "metadata": {
    "pycharm": {
     "name": "#%%\n"
    },
    "id": "dA45_nXgyPZC"
   }
  },
  {
   "cell_type": "code",
   "execution_count": 27,
   "outputs": [
    {
     "data": {
      "text/plain": "RandomForestClassifier(n_estimators=500)",
      "text/html": "<style>#sk-container-id-1 {color: black;background-color: white;}#sk-container-id-1 pre{padding: 0;}#sk-container-id-1 div.sk-toggleable {background-color: white;}#sk-container-id-1 label.sk-toggleable__label {cursor: pointer;display: block;width: 100%;margin-bottom: 0;padding: 0.3em;box-sizing: border-box;text-align: center;}#sk-container-id-1 label.sk-toggleable__label-arrow:before {content: \"▸\";float: left;margin-right: 0.25em;color: #696969;}#sk-container-id-1 label.sk-toggleable__label-arrow:hover:before {color: black;}#sk-container-id-1 div.sk-estimator:hover label.sk-toggleable__label-arrow:before {color: black;}#sk-container-id-1 div.sk-toggleable__content {max-height: 0;max-width: 0;overflow: hidden;text-align: left;background-color: #f0f8ff;}#sk-container-id-1 div.sk-toggleable__content pre {margin: 0.2em;color: black;border-radius: 0.25em;background-color: #f0f8ff;}#sk-container-id-1 input.sk-toggleable__control:checked~div.sk-toggleable__content {max-height: 200px;max-width: 100%;overflow: auto;}#sk-container-id-1 input.sk-toggleable__control:checked~label.sk-toggleable__label-arrow:before {content: \"▾\";}#sk-container-id-1 div.sk-estimator input.sk-toggleable__control:checked~label.sk-toggleable__label {background-color: #d4ebff;}#sk-container-id-1 div.sk-label input.sk-toggleable__control:checked~label.sk-toggleable__label {background-color: #d4ebff;}#sk-container-id-1 input.sk-hidden--visually {border: 0;clip: rect(1px 1px 1px 1px);clip: rect(1px, 1px, 1px, 1px);height: 1px;margin: -1px;overflow: hidden;padding: 0;position: absolute;width: 1px;}#sk-container-id-1 div.sk-estimator {font-family: monospace;background-color: #f0f8ff;border: 1px dotted black;border-radius: 0.25em;box-sizing: border-box;margin-bottom: 0.5em;}#sk-container-id-1 div.sk-estimator:hover {background-color: #d4ebff;}#sk-container-id-1 div.sk-parallel-item::after {content: \"\";width: 100%;border-bottom: 1px solid gray;flex-grow: 1;}#sk-container-id-1 div.sk-label:hover label.sk-toggleable__label {background-color: #d4ebff;}#sk-container-id-1 div.sk-serial::before {content: \"\";position: absolute;border-left: 1px solid gray;box-sizing: border-box;top: 0;bottom: 0;left: 50%;z-index: 0;}#sk-container-id-1 div.sk-serial {display: flex;flex-direction: column;align-items: center;background-color: white;padding-right: 0.2em;padding-left: 0.2em;position: relative;}#sk-container-id-1 div.sk-item {position: relative;z-index: 1;}#sk-container-id-1 div.sk-parallel {display: flex;align-items: stretch;justify-content: center;background-color: white;position: relative;}#sk-container-id-1 div.sk-item::before, #sk-container-id-1 div.sk-parallel-item::before {content: \"\";position: absolute;border-left: 1px solid gray;box-sizing: border-box;top: 0;bottom: 0;left: 50%;z-index: -1;}#sk-container-id-1 div.sk-parallel-item {display: flex;flex-direction: column;z-index: 1;position: relative;background-color: white;}#sk-container-id-1 div.sk-parallel-item:first-child::after {align-self: flex-end;width: 50%;}#sk-container-id-1 div.sk-parallel-item:last-child::after {align-self: flex-start;width: 50%;}#sk-container-id-1 div.sk-parallel-item:only-child::after {width: 0;}#sk-container-id-1 div.sk-dashed-wrapped {border: 1px dashed gray;margin: 0 0.4em 0.5em 0.4em;box-sizing: border-box;padding-bottom: 0.4em;background-color: white;}#sk-container-id-1 div.sk-label label {font-family: monospace;font-weight: bold;display: inline-block;line-height: 1.2em;}#sk-container-id-1 div.sk-label-container {text-align: center;}#sk-container-id-1 div.sk-container {/* jupyter's `normalize.less` sets `[hidden] { display: none; }` but bootstrap.min.css set `[hidden] { display: none !important; }` so we also need the `!important` here to be able to override the default hidden behavior on the sphinx rendered scikit-learn.org. See: https://github.com/scikit-learn/scikit-learn/issues/21755 */display: inline-block !important;position: relative;}#sk-container-id-1 div.sk-text-repr-fallback {display: none;}</style><div id=\"sk-container-id-1\" class=\"sk-top-container\"><div class=\"sk-text-repr-fallback\"><pre>RandomForestClassifier(n_estimators=500)</pre><b>In a Jupyter environment, please rerun this cell to show the HTML representation or trust the notebook. <br />On GitHub, the HTML representation is unable to render, please try loading this page with nbviewer.org.</b></div><div class=\"sk-container\" hidden><div class=\"sk-item\"><div class=\"sk-estimator sk-toggleable\"><input class=\"sk-toggleable__control sk-hidden--visually\" id=\"sk-estimator-id-1\" type=\"checkbox\" checked><label for=\"sk-estimator-id-1\" class=\"sk-toggleable__label sk-toggleable__label-arrow\">RandomForestClassifier</label><div class=\"sk-toggleable__content\"><pre>RandomForestClassifier(n_estimators=500)</pre></div></div></div></div></div>"
     },
     "execution_count": 27,
     "metadata": {},
     "output_type": "execute_result"
    }
   ],
   "source": [
    "# Build random forest model\n",
    "\n",
    "from sklearn.ensemble import RandomForestClassifier\n",
    "\n",
    "rf = RandomForestClassifier(n_estimators=500)\n",
    "\n",
    "rf.fit(X_train, y_train)"
   ],
   "metadata": {
    "pycharm": {
     "name": "#%%\n"
    },
    "id": "KicQMLCiyPZD"
   }
  },
  {
   "cell_type": "code",
   "execution_count": 28,
   "outputs": [
    {
     "data": {
      "text/plain": "0.649557801642451"
     },
     "execution_count": 28,
     "metadata": {},
     "output_type": "execute_result"
    }
   ],
   "source": [
    "# Simplest and quickest way to obtain the model performance (Accuracy)\n",
    "rf.score(X_test,y_test)"
   ],
   "metadata": {
    "pycharm": {
     "name": "#%%\n"
    },
    "id": "w-HxIzK1yPZD"
   }
  },
  {
   "cell_type": "markdown",
   "source": [
    "***Torch section***"
   ],
   "metadata": {
    "collapsed": false,
    "pycharm": {
     "name": "#%% md\n"
    },
    "id": "lx4mYTI7yPZD"
   }
  },
  {
   "cell_type": "code",
   "execution_count": 29,
   "outputs": [],
   "source": [
    "def data_loader(train_inputs, test_inputs, train_labels, test_labels,\n",
    "                batch_size=50):\n",
    "    \"\"\"\n",
    "    Convert train and validation sets to torch.Tensors and load them to\n",
    "    DataLoader.\n",
    "    \"\"\"\n",
    "\n",
    "    # Convert data type to torch.Tensor\n",
    "    train_inputs, test_inputs, train_labels, test_labels =\\\n",
    "    tuple(torch.tensor(data.values) for data in\n",
    "          [train_inputs, test_inputs, train_labels, test_labels])\n",
    "\n",
    "    # Create DataLoader for training data\n",
    "    train_data = TensorDataset(train_inputs, train_labels)\n",
    "    train_sampler = RandomSampler(train_data)\n",
    "    train_dataloader = DataLoader(train_data, sampler=train_sampler, batch_size=batch_size)\n",
    "\n",
    "    # Create DataLoader for validation data\n",
    "    test_data = TensorDataset(test_inputs, test_labels)\n",
    "    test_sampler = SequentialSampler(test_data)\n",
    "    test_dataloader = DataLoader(test_data, sampler=test_sampler, batch_size=batch_size)\n",
    "\n",
    "    return train_dataloader, test_dataloader"
   ],
   "metadata": {
    "pycharm": {
     "name": "#%%\n"
    },
    "id": "qLczQjohyPZD"
   }
  },
  {
   "cell_type": "code",
   "execution_count": 30,
   "outputs": [],
   "source": [
    "train_dataloader, test_dataloader = data_loader(X_train, X_test, y_train, y_test)"
   ],
   "metadata": {
    "pycharm": {
     "name": "#%%\n"
    },
    "id": "DV0_96SdyPZD"
   }
  },
  {
   "cell_type": "markdown",
   "source": [
    "***CNN Architecture*** (from https://chriskhanhtran.github.io/posts/cnn-sentence-classification/)\n",
    "![CNN Architecture](cnn-architecture.JPG)\n"
   ],
   "metadata": {
    "collapsed": false,
    "pycharm": {
     "name": "#%% md\n"
    }
   }
  },
  {
   "cell_type": "code",
   "execution_count": 31,
   "outputs": [],
   "source": [
    "import torch\n",
    "import torch.nn as nn\n",
    "import torch.nn.functional as F\n",
    "\n",
    "class CNN_NLP(nn.Module):\n",
    "    \"\"\"An 1D Convulational Neural Network for Sentence Classification.\"\"\"\n",
    "    def __init__(self,\n",
    "                 pretrained_embedding=None,\n",
    "                 freeze_embedding=False,\n",
    "                 vocab_size=None,\n",
    "                 embed_dim=300,\n",
    "                 filter_sizes=[3, 4, 5],\n",
    "                 num_filters=[100, 100, 100],\n",
    "                 num_classes=2,\n",
    "                 dropout=0.5):\n",
    "        \"\"\"\n",
    "        The constructor for CNN_NLP class.\n",
    "\n",
    "        Args:\n",
    "            pretrained_embedding (torch.Tensor): Pretrained embeddings with\n",
    "                shape (vocab_size, embed_dim)\n",
    "            freeze_embedding (bool): Set to False to fine-tune pretraiend\n",
    "                vectors. Default: False\n",
    "            vocab_size (int): Need to be specified when not pretrained word\n",
    "                embeddings are not used.\n",
    "            embed_dim (int): Dimension of word vectors. Need to be specified\n",
    "                when pretrained word embeddings are not used. Default: 300\n",
    "            filter_sizes (List[int]): List of filter sizes. Default: [3, 4, 5]\n",
    "            num_filters (List[int]): List of number of filters, has the same\n",
    "                length as `filter_sizes`. Default: [100, 100, 100]\n",
    "            n_classes (int): Number of classes. Default: 2\n",
    "            dropout (float): Dropout rate. Default: 0.5\n",
    "        \"\"\"\n",
    "\n",
    "        super(CNN_NLP, self).__init__()\n",
    "        # Embedding layer\n",
    "        if pretrained_embedding is not None:\n",
    "            self.vocab_size, self.embed_dim = pretrained_embedding.shape\n",
    "            self.embedding = nn.Embedding.from_pretrained(pretrained_embedding,\n",
    "                                                          freeze=freeze_embedding)\n",
    "        else:\n",
    "            self.embed_dim = embed_dim\n",
    "            self.embedding = nn.Embedding(num_embeddings=vocab_size,\n",
    "                                          embedding_dim=self.embed_dim,\n",
    "                                          padding_idx=0,\n",
    "                                          max_norm=5.0)\n",
    "        # Conv Network\n",
    "        self.conv1d_list = nn.ModuleList([\n",
    "            nn.Conv1d(in_channels=self.embed_dim,\n",
    "                      out_channels=num_filters[i],\n",
    "                      kernel_size=filter_sizes[i])\n",
    "            for i in range(len(filter_sizes))\n",
    "        ])\n",
    "        # Fully-connected layer and Dropout\n",
    "        self.fc = nn.Linear(np.sum(num_filters), num_classes)\n",
    "        self.dropout = nn.Dropout(p=dropout)\n",
    "\n",
    "    def forward(self, input_ids):\n",
    "        \"\"\"Perform a forward pass through the network.\n",
    "\n",
    "        Args:\n",
    "            input_ids (torch.Tensor): A tensor of token ids with shape\n",
    "                (batch_size, max_sent_length)\n",
    "\n",
    "        Returns:\n",
    "            logits (torch.Tensor): Output logits with shape (batch_size,\n",
    "                n_classes)\n",
    "        \"\"\"\n",
    "\n",
    "        # Get embeddings from `input_ids`. Output shape: (b, max_len, embed_dim)\n",
    "        x_embed = self.embedding(input_ids).float()\n",
    "\n",
    "        # Permute `x_embed` to match input shape requirement of `nn.Conv1d`.\n",
    "        # Output shape: (b, embed_dim, max_len)\n",
    "        x_reshaped = x_embed.permute(0, 2, 1)\n",
    "\n",
    "        # Apply CNN and ReLU. Output shape: (b, num_filters[i], L_out)\n",
    "        x_conv_list = [F.relu(conv1d(x_reshaped)) for conv1d in self.conv1d_list]\n",
    "\n",
    "        # Max pooling. Output shape: (b, num_filters[i], 1)\n",
    "        x_pool_list = [F.max_pool1d(x_conv, kernel_size=x_conv.shape[2])\n",
    "            for x_conv in x_conv_list]\n",
    "\n",
    "        # Concatenate x_pool_list to feed the fully connected layer.\n",
    "        # Output shape: (b, sum(num_filters))\n",
    "        x_fc = torch.cat([x_pool.squeeze(dim=2) for x_pool in x_pool_list],\n",
    "                         dim=1)\n",
    "\n",
    "        # Compute logits. Output shape: (b, n_classes)\n",
    "        logits = self.fc(self.dropout(x_fc))\n",
    "\n",
    "        return logits"
   ],
   "metadata": {
    "pycharm": {
     "name": "#%%\n"
    },
    "id": "x5sOIgoHyPZD"
   }
  },
  {
   "cell_type": "code",
   "execution_count": 32,
   "outputs": [],
   "source": [
    "import torch.optim as optim\n",
    "\n",
    "def initilize_model(pretrained_embedding=None,\n",
    "                    freeze_embedding=False,\n",
    "                    vocab_size=None,\n",
    "                    embed_dim=300,\n",
    "                    filter_sizes=[3, 4, 5],\n",
    "                    num_filters=[100, 100, 100],\n",
    "                    num_classes=2,\n",
    "                    dropout=0.5,\n",
    "                    learning_rate=0.01):\n",
    "    \"\"\"Instantiate a CNN model and an optimizer.\"\"\"\n",
    "\n",
    "    assert (len(filter_sizes) == len(num_filters)), \"filter_sizes and \\\n",
    "    num_filters need to be of the same length.\"\n",
    "\n",
    "    # Instantiate CNN model\n",
    "    cnn_model = CNN_NLP(pretrained_embedding=pretrained_embedding,\n",
    "                        freeze_embedding=freeze_embedding,\n",
    "                        vocab_size=vocab_size,\n",
    "                        embed_dim=embed_dim,\n",
    "                        filter_sizes=filter_sizes,\n",
    "                        num_filters=num_filters,\n",
    "                        num_classes=2,\n",
    "                        dropout=0.5)\n",
    "\n",
    "    # Send model to `device` (GPU/CPU)\n",
    "    cnn_model.to(device)\n",
    "\n",
    "    # Instantiate Adadelta optimizer\n",
    "    optimizer = optim.Adadelta(cnn_model.parameters(),\n",
    "                               lr=learning_rate,\n",
    "                               rho=0.95)\n",
    "\n",
    "    return cnn_model, optimizer"
   ],
   "metadata": {
    "pycharm": {
     "name": "#%%\n"
    },
    "id": "ZzT38r0lyPZD"
   }
  },
  {
   "cell_type": "code",
   "execution_count": 33,
   "outputs": [],
   "source": [
    "import random\n",
    "import time\n",
    "\n",
    "# Specify loss function\n",
    "loss_fn = nn.CrossEntropyLoss()\n",
    "\n",
    "def set_seed(seed_value=42):\n",
    "    \"\"\"Set seed for reproducibility.\"\"\"\n",
    "\n",
    "    random.seed(seed_value)\n",
    "    np.random.seed(seed_value)\n",
    "    torch.manual_seed(seed_value)\n",
    "    torch.cuda.manual_seed_all(seed_value)\n",
    "\n",
    "def train(model, optimizer, train_dataloader, val_dataloader=None, epochs=10):\n",
    "    \"\"\"Train the CNN model.\"\"\"\n",
    "\n",
    "    # Tracking best validation accuracy\n",
    "    best_accuracy = 0\n",
    "\n",
    "    # Start training loop\n",
    "    print(\"Start training...\\n\")\n",
    "    print(f\"{'Epoch':^7} | {'Train Loss':^12} | {'Val Loss':^10} | {'Val Acc':^9} | {'Elapsed':^9}\")\n",
    "    print(\"-\"*60)\n",
    "\n",
    "    for epoch_i in range(epochs):\n",
    "        # =======================================\n",
    "        #               Training\n",
    "        # =======================================\n",
    "\n",
    "        # Tracking time and loss\n",
    "        t0_epoch = time.time()\n",
    "        total_loss = 0\n",
    "\n",
    "        # Put the model into the training mode\n",
    "        model.train()\n",
    "\n",
    "        for step, batch in enumerate(train_dataloader):\n",
    "            # Load batch to GPU\n",
    "            b_input_ids, b_labels = tuple(t.to(device) for t in batch)\n",
    "\n",
    "            # Zero out any previously calculated gradients\n",
    "            model.zero_grad()\n",
    "\n",
    "            # Perform a forward pass. This will return logits.\n",
    "            logits = model(b_input_ids)\n",
    "\n",
    "            # Compute loss and accumulate the loss values\n",
    "            loss = loss_fn(logits, b_labels)\n",
    "            total_loss += loss.item()\n",
    "\n",
    "            # Perform a backward pass to calculate gradients\n",
    "            loss.backward()\n",
    "\n",
    "            # Update parameters\n",
    "            optimizer.step()\n",
    "\n",
    "        # Calculate the average loss over the entire training data\n",
    "        avg_train_loss = total_loss / len(train_dataloader)\n",
    "\n",
    "        # =======================================\n",
    "        #               Evaluation\n",
    "        # =======================================\n",
    "        if val_dataloader is not None:\n",
    "            # After the completion of each training epoch, measure the model's\n",
    "            # performance on our validation set.\n",
    "            val_loss, val_accuracy = evaluate(model, val_dataloader)\n",
    "\n",
    "            # Track the best accuracy\n",
    "            if val_accuracy > best_accuracy:\n",
    "                best_accuracy = val_accuracy\n",
    "\n",
    "            # Print performance over the entire training data\n",
    "            time_elapsed = time.time() - t0_epoch\n",
    "            print(f\"{epoch_i + 1:^7} | {avg_train_loss:^12.6f} | {val_loss:^10.6f} | {val_accuracy:^9.2f} | {time_elapsed:^9.2f}\")\n",
    "\n",
    "    print(\"\\n\")\n",
    "    print(f\"Training complete! Best accuracy: {best_accuracy:.2f}%.\")\n",
    "\n",
    "def evaluate(model, val_dataloader):\n",
    "    \"\"\"After the completion of each training epoch, measure the model's\n",
    "    performance on our validation set.\n",
    "    \"\"\"\n",
    "    # Put the model into the evaluation mode. The dropout layers are disabled\n",
    "    # during the test time.\n",
    "    model.eval()\n",
    "\n",
    "    # Tracking variables\n",
    "    val_accuracy = []\n",
    "    val_loss = []\n",
    "\n",
    "    # For each batch in our validation set...\n",
    "    for batch in val_dataloader:\n",
    "        # Load batch to GPU\n",
    "        b_input_ids, b_labels = tuple(t.to(device) for t in batch)\n",
    "\n",
    "        # Compute logits\n",
    "        with torch.no_grad():\n",
    "            logits = model(b_input_ids)\n",
    "\n",
    "        # Compute loss\n",
    "        loss = loss_fn(logits, b_labels)\n",
    "        val_loss.append(loss.item())\n",
    "\n",
    "        # Get the predictions\n",
    "        preds = torch.argmax(logits, dim=1).flatten()\n",
    "\n",
    "        # Calculate the accuracy rate\n",
    "        accuracy = (preds == b_labels).cpu().numpy().mean() * 100\n",
    "        val_accuracy.append(accuracy)\n",
    "\n",
    "    # Compute the average accuracy and loss over the validation set.\n",
    "    val_loss = np.mean(val_loss)\n",
    "    val_accuracy = np.mean(val_accuracy)\n",
    "\n",
    "    return val_loss, val_accuracy"
   ],
   "metadata": {
    "pycharm": {
     "name": "#%%\n"
    },
    "id": "hbQpPngByPZE"
   }
  },
  {
   "cell_type": "code",
   "execution_count": 34,
   "outputs": [],
   "source": [
    "# CNN-rand: Word vectors are randomly initialized.\n",
    "set_seed(42)\n",
    "cnn_rand, optimizer = initilize_model(vocab_size=vocab_size_aa,\n",
    "                                      embed_dim=50,\n",
    "                                      learning_rate=0.2,\n",
    "                                      dropout=0.5)\n"
   ],
   "metadata": {
    "pycharm": {
     "name": "#%%\n"
    },
    "colab": {
     "base_uri": "https://localhost:8080/"
    },
    "id": "8aN8B14eyPZE",
    "outputId": "2a7d810b-42ac-4596-9736-7633df55417e"
   }
  },
  {
   "cell_type": "code",
   "execution_count": 35,
   "outputs": [
    {
     "name": "stdout",
     "output_type": "stream",
     "text": [
      "Start training...\n",
      "\n",
      " Epoch  |  Train Loss  |  Val Loss  |  Val Acc  |  Elapsed \n",
      "------------------------------------------------------------\n",
      "   1    |   0.682189   |  0.594615  |   73.38   |  210.64  \n",
      "   2    |   0.614608   |  0.552455  |   74.54   |  212.44  \n",
      "   3    |   0.576847   |  0.557972  |   71.13   |  219.37  \n",
      "   4    |   0.554552   |  0.585979  |   69.19   |  211.72  \n",
      "   5    |   0.540948   |  0.515002  |   75.46   |  215.40  \n",
      "   6    |   0.529136   |  0.543359  |   71.49   |  215.67  \n",
      "   7    |   0.523054   |  0.502198  |   76.40   |  215.27  \n",
      "   8    |   0.514452   |  0.526776  |   74.72   |  214.62  \n",
      "   9    |   0.506812   |  0.526802  |   74.57   |  217.12  \n",
      "  10    |   0.501494   |  0.522210  |   73.67   |  215.05  \n",
      "  11    |   0.496607   |  0.485687  |   77.42   |  212.62  \n",
      "  12    |   0.490085   |  0.489284  |   77.20   |  209.81  \n",
      "  13    |   0.483010   |  0.495126  |   76.13   |  209.65  \n",
      "  14    |   0.477942   |  0.484611  |   77.34   |  210.73  \n",
      "  15    |   0.477448   |  0.482269  |   77.82   |  213.01  \n",
      "  16    |   0.470785   |  0.480114  |   77.36   |  214.06  \n",
      "  17    |   0.462168   |  0.479758  |   77.46   |  213.42  \n",
      "  18    |   0.459282   |  0.483755  |   77.81   |  213.32  \n",
      "  19    |   0.455081   |  0.491997  |   76.40   |  331.04  \n",
      "  20    |   0.451546   |  0.518341  |   76.03   |  356.28  \n",
      "\n",
      "\n",
      "Training complete! Best accuracy: 77.82%.\n"
     ]
    }
   ],
   "source": [
    "train(cnn_rand, optimizer, train_dataloader, test_dataloader, epochs=20)"
   ],
   "metadata": {
    "pycharm": {
     "name": "#%%\n"
    },
    "id": "Aa7vJzgQyPZE"
   }
  },
  {
   "cell_type": "code",
   "execution_count": 36,
   "outputs": [],
   "source": [
    "#Makes a predict based on the aa sequence\"\n",
    "import torch\n",
    "import torch.nn.functional as F\n",
    "\n",
    "def predict(seq, model, max_len = 500):\n",
    "    \"\"\"Predict probability that a protein sequence is an enzyme.\"\"\"\n",
    "    model.to(\"cpu\")\n",
    "    # Tokenize, pad and encode text\n",
    "    aa_code = 'ABCDEFGHIKLMNOPQRSTUVWYXZ'\n",
    "    char_to_int = dict((c, i) for i, c in enumerate(aa_code, start=1))\n",
    "    encoded_seq = [char_to_int[char] for char in seq]\n",
    "\n",
    "    padding = 0\n",
    "    if len(seq) < max_len:\n",
    "        for i in range(max_len + 1 - len(seq)):\n",
    "            encoded_seq.append(padding)\n",
    "\n",
    "    # Convert to PyTorch tensors\n",
    "    input_id = torch.tensor(encoded_seq).unsqueeze(dim=0)\n",
    "\n",
    "    # Compute logits\n",
    "    logits = model.forward(input_id)\n",
    "\n",
    "    #  Compute probability\n",
    "    probs = F.softmax(logits, dim=1).squeeze(dim=0)\n",
    "    probs_detached = probs.detach().numpy()\n",
    "\n",
    "\n",
    "    return probs_detached"
   ],
   "metadata": {
    "pycharm": {
     "name": "#%%\n"
    },
    "id": "xip-9XkryPZE",
    "executionInfo": {
     "status": "aborted",
     "timestamp": 1671564942669,
     "user_tz": -60,
     "elapsed": 8,
     "user": {
      "displayName": "Marharyta Varatnitskaya",
      "userId": "06643565085318986478"
     }
    }
   }
  },
  {
   "cell_type": "code",
   "execution_count": 38,
   "outputs": [],
   "source": [
    "sequence = \"MAPYPYKVQTTVPELQYENFDGAKFGYMFWPVQNGTNEVRGRVLLIHGFGEYTKIQFRLMDHLSLNGYESFTFDQRGAGVTSPGRSKGVTDEYHVFNDLEHFVEKNLSECKAKGIPLFMWGHSMGGGICLNYACQGKHKNEISGYIGSGPLIILHPHTMYNKPTQIIAPLLAKFLPRVRIDTGLDLKGITSDKAYRAFLGSDPMSVPLYGSFRQIHDFMQRGAKLYKNENNYIQKNFAKDKPVIIMHGQDDTINDPKGSEKFIQDCPSADKELKLYPGARHSIFSLETDKVFNTVFNDMKQWLDKHTTTEAKP\""
   ],
   "metadata": {
    "collapsed": false,
    "pycharm": {
     "name": "#%%\n"
    }
   }
  },
  {
   "cell_type": "code",
   "execution_count": 39,
   "outputs": [
    {
     "data": {
      "text/plain": "array([0.06117718, 0.9388228 ], dtype=float32)"
     },
     "execution_count": 39,
     "metadata": {},
     "output_type": "execute_result"
    }
   ],
   "source": [
    "predict(sequence, model= cnn_rand)"
   ],
   "metadata": {
    "collapsed": false,
    "pycharm": {
     "name": "#%%\n"
    }
   }
  },
  {
   "cell_type": "markdown",
   "source": [
    "***Save model***"
   ],
   "metadata": {
    "collapsed": false,
    "pycharm": {
     "name": "#%% md\n"
    }
   }
  },
  {
   "cell_type": "code",
   "execution_count": 40,
   "outputs": [],
   "source": [
    "torch.save(cnn_rand.state_dict(), 'model.pt')"
   ],
   "metadata": {
    "collapsed": false,
    "pycharm": {
     "name": "#%%\n"
    }
   }
  },
  {
   "cell_type": "markdown",
   "source": [
    "***Inference***"
   ],
   "metadata": {
    "collapsed": false,
    "pycharm": {
     "name": "#%% md\n"
    }
   }
  },
  {
   "cell_type": "code",
   "execution_count": 41,
   "outputs": [
    {
     "name": "stdout",
     "output_type": "stream",
     "text": [
      "No GPU available, using the CPU instead.\n"
     ]
    }
   ],
   "source": [
    "from model import cnn_model\n",
    "model, optimizer = cnn_model.initilize_model(vocab_size=26,\n",
    "                                      embed_dim=50,\n",
    "                                      learning_rate=0.2,\n",
    "                                      dropout=0.5)"
   ],
   "metadata": {
    "collapsed": false,
    "pycharm": {
     "name": "#%%\n"
    }
   }
  },
  {
   "cell_type": "code",
   "execution_count": 42,
   "outputs": [
    {
     "data": {
      "text/plain": "CNN_NLP(\n  (embedding): Embedding(26, 50, padding_idx=0, max_norm=5.0)\n  (conv1d_list): ModuleList(\n    (0): Conv1d(50, 100, kernel_size=(3,), stride=(1,))\n    (1): Conv1d(50, 100, kernel_size=(4,), stride=(1,))\n    (2): Conv1d(50, 100, kernel_size=(5,), stride=(1,))\n  )\n  (fc): Linear(in_features=300, out_features=2, bias=True)\n  (dropout): Dropout(p=0.5, inplace=False)\n)"
     },
     "execution_count": 42,
     "metadata": {},
     "output_type": "execute_result"
    }
   ],
   "source": [
    "model.load_state_dict(torch.load(\"../model/model.pt\"))\n",
    "model.eval()"
   ],
   "metadata": {
    "collapsed": false,
    "pycharm": {
     "name": "#%%\n"
    }
   }
  },
  {
   "cell_type": "code",
   "execution_count": 43,
   "outputs": [],
   "source": [
    "sequence_enzyme = \"MKFVKRRIIALVTILMLSVTSLFALQPSAKAAEHNPVVMVHGIGGASFNFAGIKSYLVSQGWSRDKLYAVDFWDKTGTNYNNGPVLSRFVQKVLDETGAKKVDIVAHSMGGANTLYYIKNLDGGNKVANVVTLGGANRLTTGKALPGTDPNQKILYTSIYSSADMIVMNYLSRLDGARNVQIHGVGHIGLLYSSQVNSLIKEGLNGGGQNTN\""
   ],
   "metadata": {
    "collapsed": false,
    "pycharm": {
     "name": "#%%\n"
    }
   }
  },
  {
   "cell_type": "code",
   "execution_count": 44,
   "outputs": [],
   "source": [
    "from app import preprocessing_and_predict\n",
    "probs = preprocessing_and_predict.predict(sequence_enzyme, model=model)"
   ],
   "metadata": {
    "collapsed": false,
    "pycharm": {
     "name": "#%%\n"
    }
   }
  },
  {
   "cell_type": "code",
   "execution_count": 46,
   "outputs": [
    {
     "data": {
      "text/plain": "'This sequence is 85.86% an enzyme.'"
     },
     "execution_count": 46,
     "metadata": {},
     "output_type": "execute_result"
    }
   ],
   "source": [
    "f\"This sequence is {probs[1] * 100:.2f}% an enzyme.\""
   ],
   "metadata": {
    "collapsed": false,
    "pycharm": {
     "name": "#%%\n"
    }
   }
  },
  {
   "cell_type": "code",
   "execution_count": null,
   "outputs": [],
   "source": [],
   "metadata": {
    "collapsed": false,
    "pycharm": {
     "name": "#%%\n"
    }
   }
  }
 ],
 "metadata": {
  "kernelspec": {
   "display_name": "Python 3",
   "language": "python",
   "name": "python3"
  },
  "language_info": {
   "codemirror_mode": {
    "name": "ipython",
    "version": 2
   },
   "file_extension": ".py",
   "mimetype": "text/x-python",
   "name": "python",
   "nbconvert_exporter": "python",
   "pygments_lexer": "ipython2",
   "version": "2.7.6"
  },
  "colab": {
   "provenance": []
  }
 },
 "nbformat": 4,
 "nbformat_minor": 0
}