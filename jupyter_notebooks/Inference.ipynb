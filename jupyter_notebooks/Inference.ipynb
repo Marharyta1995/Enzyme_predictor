{
 "cells": [
  {
   "cell_type": "markdown",
   "source": [
    "#### ***Check model performance on inference.txt***"
   ],
   "metadata": {
    "collapsed": false,
    "pycharm": {
     "name": "#%% md\n"
    }
   }
  },
  {
   "cell_type": "code",
   "execution_count": 17,
   "outputs": [],
   "source": [
    "from model import cnn_model\n",
    "import torch\n",
    "import requests\n",
    "import pandas as pd"
   ],
   "metadata": {
    "collapsed": false,
    "pycharm": {
     "name": "#%%\n"
    }
   }
  },
  {
   "cell_type": "code",
   "execution_count": 18,
   "outputs": [],
   "source": [
    "handle = open(\"../data/inference.txt\", mode=\"r\")\n",
    "inference = handle.read()\n",
    "handle.close()\n",
    "inference_split = inference.split(\"\\n\")\n",
    "only_sequences = inference_split[1::2]"
   ],
   "metadata": {
    "collapsed": false,
    "pycharm": {
     "name": "#%%\n"
    }
   }
  },
  {
   "cell_type": "code",
   "execution_count": 19,
   "outputs": [],
   "source": [
    "results = []\n",
    "for seq in only_sequences:\n",
    "  request_body = {\n",
    "  \"sequence\": seq\n",
    "    }\n",
    "  request = requests.post(url = 'http://127.0.0.1:8000/predict', json = request_body).json()\n",
    "  results.append(request)"
   ],
   "metadata": {
    "collapsed": false,
    "pycharm": {
     "name": "#%%\n"
    }
   }
  },
  {
   "cell_type": "code",
   "execution_count": 20,
   "outputs": [],
   "source": [
    "reply_df = pd.json_normalize(results)"
   ],
   "metadata": {
    "collapsed": false,
    "pycharm": {
     "name": "#%%\n"
    }
   }
  },
  {
   "cell_type": "code",
   "execution_count": 21,
   "outputs": [
    {
     "data": {
      "text/plain": "                                            Sequence       Class  \\\n0  MAPYPYKVQTTVPELQYENFDGAKFGYMFWPVQNGTNEVRGRVLLI...      enzyme   \n1  MENSQLVSITFLAYTIIISIGSINCIDNNNLVTNQSALFVFGDSVF...      enzyme   \n2  MSQSICSTGLRWLWLVVVVLIIDLGSKYLILQNFALGDTVPLFPSL...      enzyme   \n3  MPRRRVIGQRKILPDPKFGSELLAKFVNILMVDGKKSTAESIVYSA...  not_enzyme   \n4  MTLDLPRRFPWPTLLSVCIHGAVVAGLLYTSVHQVIELPAPAQPIS...  not_enzyme   \n5  MRSSAKQEELVKAFKALLKEEKFSSQGEIVAALQEQGFDNINQSKV...  not_enzyme   \n\n  Probability_enzyme  \n0              93.88  \n1              88.93  \n2              85.03  \n3              24.45  \n4              12.87  \n5              48.07  ",
      "text/html": "<div>\n<style scoped>\n    .dataframe tbody tr th:only-of-type {\n        vertical-align: middle;\n    }\n\n    .dataframe tbody tr th {\n        vertical-align: top;\n    }\n\n    .dataframe thead th {\n        text-align: right;\n    }\n</style>\n<table border=\"1\" class=\"dataframe\">\n  <thead>\n    <tr style=\"text-align: right;\">\n      <th></th>\n      <th>Sequence</th>\n      <th>Class</th>\n      <th>Probability_enzyme</th>\n    </tr>\n  </thead>\n  <tbody>\n    <tr>\n      <th>0</th>\n      <td>MAPYPYKVQTTVPELQYENFDGAKFGYMFWPVQNGTNEVRGRVLLI...</td>\n      <td>enzyme</td>\n      <td>93.88</td>\n    </tr>\n    <tr>\n      <th>1</th>\n      <td>MENSQLVSITFLAYTIIISIGSINCIDNNNLVTNQSALFVFGDSVF...</td>\n      <td>enzyme</td>\n      <td>88.93</td>\n    </tr>\n    <tr>\n      <th>2</th>\n      <td>MSQSICSTGLRWLWLVVVVLIIDLGSKYLILQNFALGDTVPLFPSL...</td>\n      <td>enzyme</td>\n      <td>85.03</td>\n    </tr>\n    <tr>\n      <th>3</th>\n      <td>MPRRRVIGQRKILPDPKFGSELLAKFVNILMVDGKKSTAESIVYSA...</td>\n      <td>not_enzyme</td>\n      <td>24.45</td>\n    </tr>\n    <tr>\n      <th>4</th>\n      <td>MTLDLPRRFPWPTLLSVCIHGAVVAGLLYTSVHQVIELPAPAQPIS...</td>\n      <td>not_enzyme</td>\n      <td>12.87</td>\n    </tr>\n    <tr>\n      <th>5</th>\n      <td>MRSSAKQEELVKAFKALLKEEKFSSQGEIVAALQEQGFDNINQSKV...</td>\n      <td>not_enzyme</td>\n      <td>48.07</td>\n    </tr>\n  </tbody>\n</table>\n</div>"
     },
     "execution_count": 21,
     "metadata": {},
     "output_type": "execute_result"
    }
   ],
   "source": [
    "reply_df"
   ],
   "metadata": {
    "collapsed": false,
    "pycharm": {
     "name": "#%%\n"
    }
   }
  },
  {
   "cell_type": "code",
   "execution_count": null,
   "outputs": [],
   "source": [],
   "metadata": {
    "collapsed": false,
    "pycharm": {
     "name": "#%%\n"
    }
   }
  }
 ],
 "metadata": {
  "kernelspec": {
   "display_name": "Python 3",
   "language": "python",
   "name": "python3"
  },
  "language_info": {
   "codemirror_mode": {
    "name": "ipython",
    "version": 2
   },
   "file_extension": ".py",
   "mimetype": "text/x-python",
   "name": "python",
   "nbconvert_exporter": "python",
   "pygments_lexer": "ipython2",
   "version": "2.7.6"
  }
 },
 "nbformat": 4,
 "nbformat_minor": 0
}